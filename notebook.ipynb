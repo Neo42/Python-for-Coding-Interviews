{
 "cells": [
  {
   "cell_type": "code",
   "execution_count": 39,
   "metadata": {},
   "outputs": [
    {
     "name": "stdout",
     "output_type": "stream",
     "text": [
      "n = 0\n",
      "n = abc\n",
      "n = None\n",
      "0\n",
      "1\n",
      "2\n",
      "3\n",
      "4\n",
      "0\n",
      "1\n",
      "2\n",
      "3\n",
      "4\n",
      "2\n",
      "3\n",
      "4\n",
      "5\n",
      "5\n",
      "4\n",
      "3\n",
      "2\n"
     ]
    }
   ],
   "source": [
    "import math\n",
    "n = 0\n",
    "print('n =', n)\n",
    "\n",
    "n = \"abc\"\n",
    "print('n =', n)\n",
    "\n",
    "n, m = 0, \"abc\"\n",
    "n, m, z = .125, \"abc\", False\n",
    "\n",
    "n = n + 1\n",
    "n += 1\n",
    "# n++ bad\n",
    "\n",
    "n = 4\n",
    "n = None\n",
    "print(\"n =\", n)\n",
    "\n",
    "n = 1\n",
    "if n > 2:\n",
    "    n -= 1\n",
    "elif n == 2:\n",
    "    n *= 2\n",
    "else:\n",
    "    n += 2\n",
    "\n",
    "n, m = 1, 2\n",
    "if ((n > 2 and n != m) or n == m):\n",
    "    n += 1\n",
    "\n",
    "n = 0\n",
    "while n < 5:\n",
    "    print(n)\n",
    "    n += 1\n",
    "\n",
    "for i in range(5):\n",
    "    print(i)\n",
    "\n",
    "for i in range(2, 6):\n",
    "    print(i)\n",
    "\n",
    "for i in range(5, 1, -1):\n",
    "    print(i)\n"
   ]
  },
  {
   "cell_type": "code",
   "execution_count": 40,
   "metadata": {},
   "outputs": [
    {
     "name": "stdout",
     "output_type": "stream",
     "text": [
      "2.5\n",
      "2\n",
      "-2\n",
      "-1\n",
      "1\n",
      "2\n",
      "3\n",
      "-1.0\n",
      "1\n",
      "2\n",
      "1.4142135623730951\n",
      "8.0\n",
      "True\n"
     ]
    }
   ],
   "source": [
    "import math\n",
    "print(5 / 2)  # 2.5\n",
    "print(5 // 2)  # 2\n",
    "print(-3 // 2)  # negative round down: -2\n",
    "print(int(-3 / 2))  # int(-1.5) => -1\n",
    "\n",
    "print(10 % 3)\n",
    "print(-10 % 3)  # -10 % 3 = -1; -1 + 3 = 2\n",
    "print(-12 % 5)  # -12 % 5 = -2; -2 + 5 = 3\n",
    "\n",
    "print(math.fmod(-10, 3))  # -1.0\n",
    "print(math.floor(3 / 2))  # 1\n",
    "print(math.ceil(3 / 2))  # 2\n",
    "print(math.sqrt(2))  # 1.414...\n",
    "print(math.pow(2, 3))  # 8.0\n",
    "\n",
    "float(\"inf\")\n",
    "float(\"-inf\")\n",
    "\n",
    "print(math.pow(2, 200) < float(\"inf\"))\n"
   ]
  },
  {
   "cell_type": "code",
   "execution_count": 41,
   "metadata": {},
   "outputs": [
    {
     "name": "stdout",
     "output_type": "stream",
     "text": [
      "[1, 2, 3]\n",
      "[1, 2, 3, 4, 5]\n",
      "[1, 2, 3, 4]\n",
      "[1, 7, 2, 3, 4]\n",
      "[0, 7, 2, 0, 4]\n",
      "[1, 1, 1, 1, 1]\n",
      "5\n",
      "3\n",
      "2\n",
      "[2, 3]\n",
      "1 2 3\n",
      "1\n",
      "2\n",
      "3\n",
      "1\n",
      "2\n",
      "3\n",
      "0 1\n",
      "1 2\n",
      "2 3\n"
     ]
    }
   ],
   "source": [
    "arr = [1, 2, 3]\n",
    "print(arr)\n",
    "\n",
    "arr.append(4)\n",
    "arr.append(5)\n",
    "print(arr)\n",
    "\n",
    "arr.pop()\n",
    "print(arr)\n",
    "\n",
    "arr.insert(1, 7)\n",
    "print(arr)\n",
    "\n",
    "arr[0] = 0\n",
    "arr[3] = 0\n",
    "print(arr)\n",
    "\n",
    "n = 5\n",
    "arr = [1] * n\n",
    "print(arr)\n",
    "print(len(arr))\n",
    "\n",
    "arr = [1, 2, 3]\n",
    "print(arr[-1])\n",
    "print(arr[-2])\n",
    "\n",
    "arr = [1, 2, 3, 4]\n",
    "print(arr[1:3])\n",
    "\n",
    "a, b, c = [1, 2, 3]  # has to match\n",
    "print(a, b, c)\n",
    "\n",
    "\n",
    "nums = [1, 2, 3]\n",
    "\n",
    "for i in range(len(nums)):\n",
    "    print(nums[i])\n",
    "\n",
    "for n in nums:\n",
    "    print(n)\n",
    "\n",
    "for i, n in enumerate(nums):\n",
    "    print(i, n)\n"
   ]
  },
  {
   "cell_type": "code",
   "execution_count": 42,
   "metadata": {},
   "outputs": [
    {
     "name": "stdout",
     "output_type": "stream",
     "text": [
      "1 2\n",
      "3 4\n",
      "5 6\n",
      "[3, 2, 1]\n",
      "[1, 2, 3]\n",
      "[3, 2, 1]\n",
      "['alice', 'jane', 'bob', 'doe']\n"
     ]
    }
   ],
   "source": [
    "nums1 = [1, 3, 5]\n",
    "nums2 = [2, 4, 6]\n",
    "for n1, n2 in zip(nums1, nums2):\n",
    "    print(n1, n2)\n",
    "\n",
    "nums = [1, 2, 3]\n",
    "nums.reverse()\n",
    "print(nums)\n",
    "nums.sort()\n",
    "print(nums)\n",
    "nums.sort(reverse=True)\n",
    "print(nums)\n",
    "\n",
    "arr = ['bob', 'alice', 'jane', 'doe']\n",
    "arr.sort(key=lambda x: len(x), reverse=True)\n",
    "print(arr)\n"
   ]
  },
  {
   "cell_type": "code",
   "execution_count": 43,
   "metadata": {},
   "outputs": [
    {
     "name": "stdout",
     "output_type": "stream",
     "text": [
      "[0, 2, 4, 6, 8]\n",
      "[[1, 0, 0, 0], [0, 0, 0, 0], [0, 0, 0, 0], [0, 0, 0, 0]]\n",
      "[[1, 0, 0, 0], [1, 0, 0, 0], [1, 0, 0, 0], [1, 0, 0, 0]]\n"
     ]
    }
   ],
   "source": [
    "arr = [i+i for i in range(5)]\n",
    "print(arr)\n",
    "\n",
    "arr = [[0] * 4 for i in range(4)]\n",
    "arr[0][0] = 1\n",
    "print(arr)   # Output: [[1, 0, 0, 0], [0, 0, 0, 0], [0, 0, 0, 0], [0, 0, 0, 0]]\n",
    "\n",
    "arr = [[0] * 4] * 4\n",
    "arr[0][0] = 1\n",
    "print(arr)   # Output: [[1, 0, 0, 0], [1, 0, 0, 0], [1, 0, 0, 0], [1, 0, 0, 0]]\n"
   ]
  },
  {
   "cell_type": "code",
   "execution_count": 44,
   "metadata": {},
   "outputs": [
    {
     "name": "stdout",
     "output_type": "stream",
     "text": [
      "ab\n",
      "abcdef\n",
      "246\n",
      "123123\n",
      "97\n",
      "98\n",
      "abcdef\n"
     ]
    }
   ],
   "source": [
    "s = \"abc\"\n",
    "print(s[0:2])\n",
    "\n",
    "# s[0] = \"A\"  # not allowed\n",
    "s += \"def\"  # creates a new string\n",
    "print(s)\n",
    "\n",
    "print(int(\"123\") + int(\"123\"))\n",
    "print(str(123) + str(123))\n",
    "\n",
    "print(ord(\"a\"))\n",
    "print(ord(\"b\"))\n",
    "\n",
    "strings = ['ab', 'cd', 'ef']\n",
    "print(\"\".join(strings))\n"
   ]
  },
  {
   "cell_type": "code",
   "execution_count": 45,
   "metadata": {},
   "outputs": [
    {
     "name": "stdout",
     "output_type": "stream",
     "text": [
      "deque([1, 2])\n",
      "deque([2])\n",
      "deque([1, 2])\n",
      "deque([1])\n"
     ]
    }
   ],
   "source": [
    "from collections import deque\n",
    "\n",
    "queue = deque()\n",
    "queue.append(1)\n",
    "queue.append(2)\n",
    "print(queue)\n",
    "\n",
    "queue.popleft()\n",
    "print(queue)\n",
    "queue.appendleft(1)\n",
    "print(queue)\n",
    "queue.pop()\n",
    "print(queue)\n"
   ]
  },
  {
   "cell_type": "code",
   "execution_count": 51,
   "metadata": {},
   "outputs": [
    {
     "name": "stdout",
     "output_type": "stream",
     "text": [
      "{1, 2}\n",
      "2\n",
      "True\n",
      "True\n",
      "False\n",
      "False\n",
      "{1, 2, 3}\n",
      "{0, 1, 2, 3, 4}\n"
     ]
    }
   ],
   "source": [
    "mySet = set()\n",
    "mySet.add(1)\n",
    "mySet.add(2)\n",
    "print(mySet)\n",
    "print(len(mySet))\n",
    "\n",
    "print(1 in mySet)\n",
    "print(2 in mySet)\n",
    "print(3 in mySet)\n",
    "\n",
    "mySet.remove(2)\n",
    "print(2 in mySet)\n",
    "\n",
    "print(set([1, 2, 3]))\n",
    "\n",
    "mySet = {i for i in range(5)}\n",
    "print(mySet)\n"
   ]
  },
  {
   "cell_type": "code",
   "execution_count": 54,
   "metadata": {},
   "outputs": [
    {
     "name": "stdout",
     "output_type": "stream",
     "text": [
      "{'alice': 88, 'bob': 77}\n",
      "2\n",
      "80\n",
      "True\n",
      "False\n",
      "{'alice': 90, 'bob': 70}\n",
      "{0: 0, 1: 2, 2: 4}\n",
      "alice 90\n",
      "bob 70\n",
      "90\n",
      "70\n",
      "alice 90\n",
      "bob 70\n"
     ]
    }
   ],
   "source": [
    "myMap = {}\n",
    "myMap[\"alice\"] = 88\n",
    "myMap[\"bob\"] = 77\n",
    "print(myMap)\n",
    "print(len(myMap))\n",
    "\n",
    "myMap[\"alice\"] = 80\n",
    "print(myMap[\"alice\"])\n",
    "\n",
    "print(\"alice\" in myMap)\n",
    "myMap.pop(\"alice\")\n",
    "print(\"alice\" in myMap)\n",
    "\n",
    "myMap = {\"alice\": 90, \"bob\": 70}\n",
    "print(myMap)\n",
    "\n",
    "myMap = {i: 2 * i for i in range(3)}\n",
    "print(myMap)\n",
    "\n",
    "myMap = {\"alice\": 90, \"bob\": 70}\n",
    "\n",
    "for key in myMap:\n",
    "    print(key, myMap[key])\n",
    "\n",
    "for val in myMap.values():\n",
    "    print(val)\n",
    "\n",
    "for key, val in myMap.items():\n",
    "    print(key, val)"
   ]
  },
  {
   "cell_type": "code",
   "execution_count": 57,
   "metadata": {},
   "outputs": [
    {
     "name": "stdout",
     "output_type": "stream",
     "text": [
      "(1, 2, 3)\n",
      "1\n",
      "3\n",
      "3\n",
      "True\n"
     ]
    }
   ],
   "source": [
    "tup = (1, 2, 3)\n",
    "print(tup)\n",
    "print(tup[0])\n",
    "print(tup[-1])\n",
    "\n",
    "# tup[0] = 0 # Can't modify\n",
    "myMap = {(1, 2): 3}\n",
    "print(myMap[(1, 2)])\n",
    "\n",
    "mySet = set()\n",
    "mySet.add((1, 2))\n",
    "print((1, 2) in mySet)\n",
    "\n",
    "# myMap[[3, 4]] = 5 # no good\n"
   ]
  },
  {
   "cell_type": "code",
   "execution_count": 61,
   "metadata": {},
   "outputs": [
    {
     "name": "stdout",
     "output_type": "stream",
     "text": [
      "2\n",
      "2\n",
      "3\n",
      "4\n",
      "4\n",
      "4\n",
      "3\n",
      "2\n",
      "1\n",
      "2\n",
      "4\n",
      "5\n",
      "8\n"
     ]
    }
   ],
   "source": [
    "import heapq\n",
    "\n",
    "minHeap = []\n",
    "heapq.heappush(minHeap, 3)\n",
    "heapq.heappush(minHeap, 2)\n",
    "heapq.heappush(minHeap, 4)\n",
    "\n",
    "print(minHeap[0])\n",
    "\n",
    "while len(minHeap):\n",
    "    print(heapq.heappop(minHeap))\n",
    "\n",
    "maxHeap = []\n",
    "heapq.heappush(maxHeap, -3)\n",
    "heapq.heappush(maxHeap, -2)\n",
    "heapq.heappush(maxHeap, -4)\n",
    "\n",
    "print(-1 * maxHeap[0])\n",
    "\n",
    "while len(maxHeap):\n",
    "    print(-1 * heapq.heappop(maxHeap))\n",
    "\n",
    "arr = [2, 1, 8, 4, 5]\n",
    "heapq.heapify(arr)\n",
    "while arr:\n",
    "    print(heapq.heappop(arr))\n"
   ]
  },
  {
   "cell_type": "code",
   "execution_count": 63,
   "metadata": {},
   "outputs": [
    {
     "name": "stdout",
     "output_type": "stream",
     "text": [
      "12\n",
      "abc\n",
      "[2, 4] 6\n"
     ]
    }
   ],
   "source": [
    "def myFunc(n, m):\n",
    "    return n * m\n",
    "\n",
    "\n",
    "print(myFunc(3, 4))\n",
    "\n",
    "\n",
    "def outer(a, b):\n",
    "    c = \"c\"\n",
    "\n",
    "    def inner():\n",
    "        return a + b + c\n",
    "    return inner()\n",
    "\n",
    "\n",
    "print(outer(\"a\", \"b\"))\n",
    "\n",
    "\n",
    "def double(arr, val):\n",
    "    def helper():\n",
    "        # Modifying array works\n",
    "        for i, n in enumerate(arr):\n",
    "            arr[i] *= 2\n",
    "        # will only modify val in the helper scope\n",
    "        # val *= 2\n",
    "        # this will modify val outside helper scope\n",
    "        nonlocal val\n",
    "        val *= 2\n",
    "    helper()\n",
    "    print(arr, val)\n",
    "\n",
    "\n",
    "nums = [1, 2]\n",
    "val = 3\n",
    "double(nums, val)\n"
   ]
  },
  {
   "cell_type": "code",
   "execution_count": 1,
   "metadata": {},
   "outputs": [
    {
     "name": "stdout",
     "output_type": "stream",
     "text": [
      "4\n",
      "8\n"
     ]
    }
   ],
   "source": [
    "class MyClass:\n",
    "    # Constructor\n",
    "    def __init__(self, nums):\n",
    "        self.nums = nums\n",
    "        self.size = len(nums)\n",
    "\n",
    "    def getLength(self):\n",
    "        return self.size\n",
    "\n",
    "    def getDoubleLength(self):\n",
    "        return 2 * self.getLength()\n",
    "\n",
    "\n",
    "my_object = MyClass([1, 2, 3, 4])\n",
    "length = my_object.getLength()\n",
    "double_length = my_object.getDoubleLength()\n",
    "print(length)\n",
    "print(double_length)\n"
   ]
  }
 ],
 "metadata": {
  "kernelspec": {
   "display_name": "Python 3",
   "language": "python",
   "name": "python3"
  },
  "language_info": {
   "codemirror_mode": {
    "name": "ipython",
    "version": 3
   },
   "file_extension": ".py",
   "mimetype": "text/x-python",
   "name": "python",
   "nbconvert_exporter": "python",
   "pygments_lexer": "ipython3",
   "version": "3.10.8"
  },
  "orig_nbformat": 4
 },
 "nbformat": 4,
 "nbformat_minor": 2
}
